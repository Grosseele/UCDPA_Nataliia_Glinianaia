{
 "cells": [
  {
   "cell_type": "markdown",
   "id": "a684dd29",
   "metadata": {},
   "source": [
    "#  Data"
   ]
  },
  {
   "cell_type": "markdown",
   "id": "15dc4f09",
   "metadata": {},
   "source": [
    "Public dataset https://www.kaggle.com/datasets/catherinerasgaitis/mxmh-survey-results"
   ]
  },
  {
   "cell_type": "markdown",
   "id": "a8ebc589",
   "metadata": {},
   "source": [
    "#  Importing"
   ]
  },
  {
   "cell_type": "markdown",
   "id": "6a632133",
   "metadata": {},
   "source": [
    "Importing necessary libraries:"
   ]
  },
  {
   "cell_type": "code",
   "execution_count": null,
   "id": "9535f8cf",
   "metadata": {},
   "outputs": [],
   "source": [
    "import numpy as np\n",
    "import pandas as pd\n",
    "from statistics import mean\n",
    "import matplotlib.pyplot as plt\n",
    "import requests\n",
    "from bs4 import BeautifulSoup\n",
    "from collections import Counter\n",
    "from string import punctuation"
   ]
  },
  {
   "cell_type": "markdown",
   "id": "ef1d08c0",
   "metadata": {},
   "source": [
    "Importing CSV file into a DataFrame:"
   ]
  },
  {
   "cell_type": "code",
   "execution_count": null,
   "id": "45686170",
   "metadata": {},
   "outputs": [],
   "source": [
    "survey = pd.read_csv(\"C:\\Project\\survey_results.csv\")"
   ]
  },
  {
   "cell_type": "markdown",
   "id": "a9398529",
   "metadata": {},
   "source": [
    "Showing the example of using web scraping:"
   ]
  },
  {
   "cell_type": "code",
   "execution_count": null,
   "id": "73d805d3",
   "metadata": {},
   "outputs": [],
   "source": [
    "# We get the url\n",
    "r = requests.get(\"https://www.pfizer.com/news/articles/why_and_how_music_moves_us\")\n",
    "soup = BeautifulSoup(r.content)\n",
    "\n",
    "# We get the words within paragrphs\n",
    "text_p = (''.join(s.findAll(text=True))for s in soup.findAll('p'))\n",
    "c_p = Counter((x.rstrip(punctuation).lower() for y in text_p for x in y.split()))\n",
    "\n",
    "# We get the words within divs\n",
    "text_div = (''.join(s.findAll(text=True))for s in soup.findAll('div'))\n",
    "c_div = Counter((x.rstrip(punctuation).lower() for y in text_div for x in y.split()))\n",
    "\n",
    "# We sum the two countesr and get a list with top 10 words count from most to less common\n",
    "total = c_div + c_p\n",
    "list_most_common_words = total.most_common() \n",
    "print(list_most_common_words[:10])"
   ]
  },
  {
   "cell_type": "markdown",
   "id": "d4689a4a",
   "metadata": {},
   "source": [
    "Result of running code is top 10 used words on  the web page with research \"Why — and How — Music Moves Us\". The counting using Python could be utility for analyzing the language and topics, as well as identifying key phrases and terms associated with the website's content. This information can be useful for a variety of purposes, such as search engine optimization, content marketing, or even conducting research on a specific topic. "
   ]
  },
  {
   "cell_type": "markdown",
   "id": "8dfdd43e",
   "metadata": {},
   "source": [
    "# Preparation "
   ]
  },
  {
   "cell_type": "markdown",
   "id": "7c69bc6e",
   "metadata": {},
   "source": [
    "Exploring the dataset:"
   ]
  },
  {
   "cell_type": "code",
   "execution_count": null,
   "id": "2d008ad4",
   "metadata": {},
   "outputs": [],
   "source": [
    "survey.head()"
   ]
  },
  {
   "cell_type": "code",
   "execution_count": null,
   "id": "0e27a1f5",
   "metadata": {},
   "outputs": [],
   "source": [
    "survey.shape"
   ]
  },
  {
   "cell_type": "code",
   "execution_count": null,
   "id": "d88fb8e6",
   "metadata": {},
   "outputs": [],
   "source": [
    "survey.dtypes"
   ]
  },
  {
   "cell_type": "code",
   "execution_count": null,
   "id": "bf112c2f",
   "metadata": {},
   "outputs": [],
   "source": [
    "survey.info()"
   ]
  },
  {
   "cell_type": "markdown",
   "id": "e746e41e",
   "metadata": {},
   "source": [
    "Timestamp and Permissions don't have any meaningful info and can be dropped:"
   ]
  },
  {
   "cell_type": "code",
   "execution_count": null,
   "id": "eade4500",
   "metadata": {},
   "outputs": [],
   "source": [
    "survey = survey.drop(axis=1, columns=['Timestamp', 'Permissions'])"
   ]
  },
  {
   "cell_type": "markdown",
   "id": "436a15ff",
   "metadata": {},
   "source": [
    "Dropping duplicates keeping first repeating row:"
   ]
  },
  {
   "cell_type": "code",
   "execution_count": null,
   "id": "35d46cbb",
   "metadata": {},
   "outputs": [],
   "source": [
    "survey = survey.drop_duplicates(keep='first')"
   ]
  },
  {
   "cell_type": "markdown",
   "id": "646e1c1a",
   "metadata": {},
   "source": [
    "Checking missing values in each column:"
   ]
  },
  {
   "cell_type": "code",
   "execution_count": null,
   "id": "0cd602a0",
   "metadata": {},
   "outputs": [],
   "source": [
    "survey.isnull().sum()"
   ]
  },
  {
   "cell_type": "markdown",
   "id": "6af97428",
   "metadata": {},
   "source": [
    "Replacing the null values in the 'Age' column with the mean of the existing non-null values in that column:"
   ]
  },
  {
   "cell_type": "code",
   "execution_count": null,
   "id": "45ab45c8",
   "metadata": {},
   "outputs": [],
   "source": [
    "survey ['Age'] = survey['Age'].fillna(survey['Age'].mean())"
   ]
  },
  {
   "cell_type": "markdown",
   "id": "a28272ef",
   "metadata": {},
   "source": [
    "Remremoving any rows that have null values in the specified columns with type object:"
   ]
  },
  {
   "cell_type": "code",
   "execution_count": null,
   "id": "bcfec8cb",
   "metadata": {},
   "outputs": [],
   "source": [
    "survey = survey.dropna(subset=['Primary streaming service','While working', 'Instrumentalist', 'Composer', 'Foreign languages','Music effects'])"
   ]
  },
  {
   "cell_type": "markdown",
   "id": "e96c4a84",
   "metadata": {},
   "source": [
    "Identifying and removing any rows that contained outliers:"
   ]
  },
  {
   "cell_type": "code",
   "execution_count": null,
   "id": "2172004d",
   "metadata": {},
   "outputs": [],
   "source": [
    "print(survey['BPM'].max())\n",
    "print(survey['BPM'].min())\n",
    "print(survey['BPM'].mean())\n",
    "print(survey['BPM'].mode())\n",
    "survey = survey[survey['BPM'] > 1]\n",
    "survey = survey[survey['BPM'] < 250]"
   ]
  },
  {
   "cell_type": "markdown",
   "id": "dbdcb4d5",
   "metadata": {},
   "source": [
    "Replasing the remaining missing values with the average BPM for the user's favorite genre:"
   ]
  },
  {
   "cell_type": "code",
   "execution_count": null,
   "id": "fb087276",
   "metadata": {},
   "outputs": [],
   "source": [
    "genre_list = survey['Fav genre'].unique()\n",
    "for i in genre_list:\n",
    "  survey['BPM'] = survey['BPM'].fillna(round(survey[survey['Fav genre']== i ]['BPM'].mean(), 0))"
   ]
  },
  {
   "cell_type": "markdown",
   "id": "b50703ad",
   "metadata": {},
   "source": [
    "Checking age range of questioned people: "
   ]
  },
  {
   "cell_type": "code",
   "execution_count": null,
   "id": "6057efd2",
   "metadata": {},
   "outputs": [],
   "source": [
    "print(survey['Age'].min())\n",
    "print(survey['Age'].max())"
   ]
  },
  {
   "cell_type": "markdown",
   "id": "f9fa9fd0",
   "metadata": {},
   "source": [
    "Adding age group column by using custom function:"
   ]
  },
  {
   "cell_type": "code",
   "execution_count": null,
   "id": "856f4da5",
   "metadata": {
    "scrolled": true
   },
   "outputs": [],
   "source": [
    "def age_groups(age):\n",
    "  if age <= 14:\n",
    "    return \"10-14\"\n",
    "  elif age <= 19:\n",
    "    return \"15-19\"\n",
    "  elif age <= 24:\n",
    "    return \"20-25\"\n",
    "  elif age <= 29:\n",
    "    return \"25-29\"\n",
    "  elif age <= 34:\n",
    "    return \"30-34\"\n",
    "  elif age <= 49:\n",
    "    return \"35-49\"\n",
    "  elif age <= 69:\n",
    "    return \"50-69\"\n",
    "  else:\n",
    "    return \"70+\"\n",
    "\n",
    "survey['Age group'] = survey['Age'].apply(age_groups)"
   ]
  },
  {
   "cell_type": "markdown",
   "id": "c8f9aa6b",
   "metadata": {},
   "source": [
    "Checking for outliers in the 'Age group' column:"
   ]
  },
  {
   "cell_type": "code",
   "execution_count": null,
   "id": "86f282d7",
   "metadata": {},
   "outputs": [],
   "source": [
    "survey.loc[:,['Age group']].groupby('Age group')['Age group'].agg('count')"
   ]
  },
  {
   "cell_type": "markdown",
   "id": "3a44c3d9",
   "metadata": {},
   "source": [
    "Age group 70+ contains only 6 rows and for further visualizations and calculations could be removed:"
   ]
  },
  {
   "cell_type": "code",
   "execution_count": null,
   "id": "74b37550",
   "metadata": {},
   "outputs": [],
   "source": [
    "survey = survey[survey['Age']< 70]\n",
    "survey.loc[:,['Age group']].groupby('Age group')['Age group'].agg('count')"
   ]
  },
  {
   "cell_type": "markdown",
   "id": "50684bdf",
   "metadata": {},
   "source": [
    "Reorganizing the dataframe index:"
   ]
  },
  {
   "cell_type": "code",
   "execution_count": null,
   "id": "9c285621",
   "metadata": {},
   "outputs": [],
   "source": [
    "survey = survey.sort_values('Age group')\n",
    "survey = survey.reset_index(drop=True)\n",
    "survey.head()  "
   ]
  },
  {
   "cell_type": "markdown",
   "id": "4c460664",
   "metadata": {},
   "source": [
    "Creating the list with prevalence depression in percentage by age groups:"
   ]
  },
  {
   "cell_type": "code",
   "execution_count": null,
   "id": "cd271f8b",
   "metadata": {},
   "outputs": [],
   "source": [
    "age_groups = survey['Age group'].unique()\n",
    "list_persent = [4.545230994, 1.233283626, 6.059251462, 4.916381579, 3.228402047, 4.729831871, 6.131866959]\n",
    "prevalence_depression_array = np.array([age_groups, list_persent])\n",
    "prevalence_depression_array = prevalence_depression_array.transpose()\n",
    "prevalence_depression = pd.DataFrame(prevalence_depression_array, columns = ['Age group','Prevalence depression percent'])\n",
    "print(prevalence_depression)"
   ]
  },
  {
   "cell_type": "markdown",
   "id": "58d231a3",
   "metadata": {},
   "source": [
    "Merging the clean dataset with prevalence_depression and saving the result dataframe:"
   ]
  },
  {
   "cell_type": "code",
   "execution_count": null,
   "id": "85564028",
   "metadata": {},
   "outputs": [],
   "source": [
    "survey_full = pd.merge(survey, prevalence_depression, on = ['Age group','Age group'])\n",
    "survey_full.head()"
   ]
  },
  {
   "cell_type": "markdown",
   "id": "1d2e4d56",
   "metadata": {},
   "source": [
    "# Analysis  & Visualisations & Insights "
   ]
  },
  {
   "cell_type": "markdown",
   "id": "29045904",
   "metadata": {},
   "source": [
    "Exploring trends in listening music and favourite platforms:"
   ]
  },
  {
   "cell_type": "code",
   "execution_count": null,
   "id": "88cb43ce",
   "metadata": {},
   "outputs": [],
   "source": [
    "survey_by_ages = survey_full.loc[:,['Age group','Primary streaming service','Hours per day']]\n",
    "survey_by_ages = survey_by_ages.groupby(['Age group','Primary streaming service'])['Hours per day'].agg(['count', max, mean])\n",
    "print(survey_by_ages)"
   ]
  },
  {
   "cell_type": "markdown",
   "id": "224d94ed",
   "metadata": {},
   "source": [
    "1.Visualizing Primary streaming service of respondents:"
   ]
  },
  {
   "cell_type": "code",
   "execution_count": null,
   "id": "6f0dba9b",
   "metadata": {},
   "outputs": [],
   "source": [
    "plt.figure(figsize=(12,6))\n",
    "plt.hist(survey_full['Primary streaming service'])\n",
    "plt.ylabel('Number of responses')\n",
    "plt.xlabel('Primary streaming service')\n",
    "plt.show()"
   ]
  },
  {
   "cell_type": "markdown",
   "id": "76e21aa7",
   "metadata": {},
   "source": [
    "Histogram showing that the most used platform of respondents is Spotify."
   ]
  },
  {
   "cell_type": "markdown",
   "id": "1288b83a",
   "metadata": {},
   "source": [
    "2.Showing visualization for Average hours listening music per day by age groups:"
   ]
  },
  {
   "cell_type": "code",
   "execution_count": null,
   "id": "a77ceb87",
   "metadata": {},
   "outputs": [],
   "source": [
    "plt.ylabel('Agerage hours listening misic per day')\n",
    "plt.title('Agerage hours listening misic per day by age groups')\n",
    "survey_full.loc[:,['Age group','Hours per day']].groupby('Age group')['Hours per day'].mean().plot(kind='bar')\n",
    "plt.show()"
   ]
  },
  {
   "cell_type": "markdown",
   "id": "c200c706",
   "metadata": {},
   "source": [
    "The graph illustrates that the peak of music listening occurs during teenage years, gradually declining until the age of 50, and then increasing again."
   ]
  },
  {
   "cell_type": "markdown",
   "id": "4ba97a62",
   "metadata": {},
   "source": [
    "3.Exploring effects of listening music:"
   ]
  },
  {
   "cell_type": "code",
   "execution_count": null,
   "id": "a2459543",
   "metadata": {},
   "outputs": [],
   "source": [
    "survey_by_effect = survey_full.loc[:,['Age group','Music effects']].groupby(['Age group','Music effects'])['Music effects'].count()\n",
    "print(survey_by_effect )\n",
    "\n",
    "plt.ylabel('No of answers')\n",
    "plt.title('Effects of listening music')\n",
    "survey_full.loc[:,['Age group','Music effects']].groupby('Music effects')['Music effects'].count().plot(kind='barh')\n",
    "plt.show()\n",
    "\n",
    "plt.ylabel('No of answers')\n",
    "plt.title('Effects of listening music by age group')\n",
    "survey_by_effect.plot(kind='barh')\n",
    "plt.show()\n"
   ]
  },
  {
   "cell_type": "markdown",
   "id": "455c78b2",
   "metadata": {},
   "source": [
    "Most respondents stated that music improved their mood. This finding was consistent across all age groups, indicating that the positive impact of music on emotions is not restricted to any particular age group.\n"
   ]
  },
  {
   "cell_type": "markdown",
   "id": "be7e19c4",
   "metadata": {},
   "source": [
    "4.Exploring the correlation between listening music hours and disorders:"
   ]
  },
  {
   "cell_type": "code",
   "execution_count": null,
   "id": "1ebf0f4d",
   "metadata": {},
   "outputs": [],
   "source": [
    "survey_full.plot(kind ='scatter', x = 'Hours per day', y = 'Anxiety')\n",
    "plt.show()\n",
    "\n",
    "survey_full.plot(kind = 'scatter', x = 'Hours per day', y = 'Depression')\n",
    "plt.show()\n",
    "\n",
    "survey_full.plot(kind = 'scatter', x = 'Hours per day', y = 'Insomnia')\n",
    "plt.show()\n",
    "\n",
    "survey_full.plot(kind = 'scatter', x = 'Hours per day', y = 'OCD')\n",
    "plt.show()"
   ]
  },
  {
   "cell_type": "markdown",
   "id": "a0baaccd",
   "metadata": {},
   "source": [
    "Graphs show no correlation between listening music hours and disorders. It could be a great case for further studies using machine learning."
   ]
  },
  {
   "cell_type": "markdown",
   "id": "eb6a7341",
   "metadata": {},
   "source": [
    "5.Exploring the correlation between BPM and disorders:"
   ]
  },
  {
   "cell_type": "code",
   "execution_count": null,
   "id": "72b635d7",
   "metadata": {},
   "outputs": [],
   "source": [
    "survey_full.plot(kind = 'scatter', x = 'BPM', y = 'Anxiety')\n",
    "plt.show()\n",
    "\n",
    "survey_full.plot(kind = 'scatter', x = 'BPM', y = 'Depression')\n",
    "plt.show()\n",
    "\n",
    "survey_full.plot(kind = 'scatter', x = 'BPM', y = 'Insomnia')\n",
    "plt.show()\n",
    "\n",
    "survey_full.plot(kind = 'scatter', x = 'BPM', y = 'OCD')\n",
    "plt.show()"
   ]
  },
  {
   "cell_type": "markdown",
   "id": "baac8f61",
   "metadata": {},
   "source": [
    "Graphs show no correlation between BPM and disorders. It could be a great case for further studies using machine learning."
   ]
  },
  {
   "cell_type": "markdown",
   "id": "cdca1cbb",
   "metadata": {},
   "source": [
    "6.Exploring the correlation between Favorite genres of respondents and disorders:"
   ]
  },
  {
   "cell_type": "code",
   "execution_count": null,
   "id": "202724cd",
   "metadata": {},
   "outputs": [],
   "source": [
    "plt.xlabel('Level of Anxiety')\n",
    "survey_full.loc[:,['Fav genre','Anxiety']].groupby('Fav genre')['Anxiety'].mean().plot(kind='barh')\n",
    "plt.show()\n",
    "\n",
    "plt.xlabel('Level of Depression')\n",
    "survey_full.loc[:,['Fav genre','Depression']].groupby('Fav genre')['Depression'].mean().plot(kind='barh')\n",
    "plt.show()\n",
    "\n",
    "plt.xlabel('Level of Insomnia')\n",
    "survey_full.loc[:,['Fav genre','Insomnia']].groupby('Fav genre')['Insomnia'].mean().plot(kind='barh')\n",
    "plt.show()\n",
    "\n",
    "plt.xlabel('Level of OCD')\n",
    "survey_full.loc[:,['Fav genre','OCD']].groupby('Fav genre')['OCD'].mean().plot(kind='barh')\n",
    "plt.show()"
   ]
  },
  {
   "cell_type": "markdown",
   "id": "fd129e39",
   "metadata": {},
   "source": [
    "People who love gospel have a low level of OCD and depression & People who prefer rap and country have tendency to better sleep."
   ]
  },
  {
   "cell_type": "markdown",
   "id": "9565959b",
   "metadata": {},
   "source": [
    "7.Exploring the correlation between the Prevalence of depression and the habit of listening to music while working:"
   ]
  },
  {
   "cell_type": "code",
   "execution_count": null,
   "id": "84e1c9a2",
   "metadata": {},
   "outputs": [],
   "source": [
    "plt.ylabel('Mean prevalence depression percent')\n",
    "plt.xlabel('Listening music while working')\n",
    "plt.title('Prevalence of depression for people listening to music while working or not')\n",
    "survey_full.loc[:,['While working','Prevalence depression percent']].groupby('While working')['Prevalence depression percent'].mean().plot(kind='bar')\n",
    "plt.show()"
   ]
  },
  {
   "cell_type": "markdown",
   "id": "a64d63b8",
   "metadata": {},
   "source": [
    "The prevalence of depression is lower among individuals who listen to music while working."
   ]
  }
 ],
 "metadata": {
  "kernelspec": {
   "display_name": "Python 3 (ipykernel)",
   "language": "python",
   "name": "python3"
  },
  "language_info": {
   "codemirror_mode": {
    "name": "ipython",
    "version": 3
   },
   "file_extension": ".py",
   "mimetype": "text/x-python",
   "name": "python",
   "nbconvert_exporter": "python",
   "pygments_lexer": "ipython3",
   "version": "3.9.13"
  }
 },
 "nbformat": 4,
 "nbformat_minor": 5
}
